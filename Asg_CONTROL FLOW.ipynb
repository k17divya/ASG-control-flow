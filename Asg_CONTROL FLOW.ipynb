{
 "cells": [
  {
   "cell_type": "code",
   "execution_count": null,
   "id": "e3569561-168a-4c5a-886d-31413d7cab1d",
   "metadata": {},
   "outputs": [],
   "source": [
    "                                                Basic If-Else Statements"
   ]
  },
  {
   "cell_type": "code",
   "execution_count": 1,
   "id": "938f707d-cd23-4a60-9a82-3424f1174606",
   "metadata": {},
   "outputs": [],
   "source": [
    "#Basic Q1"
   ]
  },
  {
   "cell_type": "code",
   "execution_count": 2,
   "id": "1b31beae-aaaf-4e9f-ab9c-e6fb808c808c",
   "metadata": {},
   "outputs": [
    {
     "name": "stdin",
     "output_type": "stream",
     "text": [
      "Enter a number:  0.5\n"
     ]
    },
    {
     "name": "stdout",
     "output_type": "stream",
     "text": [
      "The number is positive.\n"
     ]
    }
   ],
   "source": [
    "num = float(input(\"Enter a number: \"))\n",
    "if num > 0:\n",
    "    print(\"The number is positive.\")\n",
    "elif num < 0:\n",
    "    print(\"The number is negative.\")\n",
    "else:\n",
    "    print(\"The number is zero.\")"
   ]
  },
  {
   "cell_type": "code",
   "execution_count": 3,
   "id": "148f0526-3be3-4bba-be33-2725ab226537",
   "metadata": {},
   "outputs": [],
   "source": [
    "# Q2"
   ]
  },
  {
   "cell_type": "code",
   "execution_count": 4,
   "id": "b0c53dcb-58a9-4165-8cc2-1596df71bb77",
   "metadata": {},
   "outputs": [
    {
     "name": "stdin",
     "output_type": "stream",
     "text": [
      "Enter your age:  24\n"
     ]
    },
    {
     "name": "stdout",
     "output_type": "stream",
     "text": [
      "You are eligible to vote.\n"
     ]
    }
   ],
   "source": [
    "age = int(input(\"Enter your age: \"))\n",
    "if age >= 18:\n",
    "    print(\"You are eligible to vote.\")\n",
    "else:\n",
    "    print(\"You are not eligible to vote.\")"
   ]
  },
  {
   "cell_type": "code",
   "execution_count": 5,
   "id": "c5c5b63d-5e31-475f-843f-c555fb077729",
   "metadata": {},
   "outputs": [],
   "source": [
    "# Q3"
   ]
  },
  {
   "cell_type": "code",
   "execution_count": 6,
   "id": "5d8de9cf-1ec1-48e0-8b5e-01a4458cb05b",
   "metadata": {},
   "outputs": [
    {
     "name": "stdin",
     "output_type": "stream",
     "text": [
      "Enter the first number:  2.4\n",
      "Enter the second number:  2\n"
     ]
    },
    {
     "name": "stdout",
     "output_type": "stream",
     "text": [
      "The maximum number is: 2.4\n"
     ]
    }
   ],
   "source": [
    "num1 = float(input(\"Enter the first number: \"))\n",
    "num2 = float(input(\"Enter the second number: \"))\n",
    "\n",
    "if num1 > num2:\n",
    "    max_num = num1\n",
    "else:\n",
    "    max_num = num2\n",
    "    \n",
    "print(\"The maximum number is:\", max_num)"
   ]
  },
  {
   "cell_type": "code",
   "execution_count": null,
   "id": "fd1de01d-9ecc-44b5-a40e-fe12e9c0a57d",
   "metadata": {},
   "outputs": [],
   "source": [
    "# Q4"
   ]
  },
  {
   "cell_type": "code",
   "execution_count": 10,
   "id": "20c7e4d7-b741-47e3-aedd-ec36de960c09",
   "metadata": {},
   "outputs": [
    {
     "name": "stdin",
     "output_type": "stream",
     "text": [
      "Enter a year:  2022\n"
     ]
    },
    {
     "name": "stdout",
     "output_type": "stream",
     "text": [
      "2022 is not a leap year.\n"
     ]
    }
   ],
   "source": [
    "year = int(input(\"Enter a year: \"))\n",
    "\n",
    "# Check if it's a leap year\n",
    "if (year % 4 == 0 and year % 100 != 0) or (year % 400 == 0):\n",
    "    print(year, \"is a leap year.\")\n",
    "else:\n",
    "    print(year, \"is not a leap year.\")"
   ]
  },
  {
   "cell_type": "code",
   "execution_count": null,
   "id": "62a53631-42ff-435e-8e9f-55595ba59bf9",
   "metadata": {},
   "outputs": [],
   "source": [
    "# Q5"
   ]
  },
  {
   "cell_type": "code",
   "execution_count": 11,
   "id": "acb3ea89-39b2-4b81-bd30-d2e3d447837f",
   "metadata": {},
   "outputs": [
    {
     "name": "stdin",
     "output_type": "stream",
     "text": [
      "Enter a character:  i\n"
     ]
    },
    {
     "name": "stdout",
     "output_type": "stream",
     "text": [
      "The character is a vowel.\n"
     ]
    }
   ],
   "source": [
    "# Input a character from the user\n",
    "char = input(\"Enter a character: \")\n",
    "\n",
    "# Check if the character is a vowel or a consonant\n",
    "if char.lower() in \"aeiou\":\n",
    "    print(\"The character is a vowel.\")\n",
    "else:\n",
    "    print(\"The character is a consonant.\")"
   ]
  },
  {
   "cell_type": "code",
   "execution_count": 12,
   "id": "090287ee-253c-44cc-b731-04cd442bfdea",
   "metadata": {},
   "outputs": [],
   "source": [
    "# Q6"
   ]
  },
  {
   "cell_type": "code",
   "execution_count": 13,
   "id": "5302c4cf-6e3a-4720-8d52-deead9fdf09d",
   "metadata": {},
   "outputs": [
    {
     "name": "stdin",
     "output_type": "stream",
     "text": [
      "Enter a number:  42\n"
     ]
    },
    {
     "name": "stdout",
     "output_type": "stream",
     "text": [
      "The number is even.\n"
     ]
    }
   ],
   "source": [
    "num = int(input(\"Enter a number: \"))\n",
    "\n",
    "# Check if the number is even or odd\n",
    "if num % 2 == 0:\n",
    "    print(\"The number is even.\")\n",
    "else:\n",
    "    print(\"The number is odd.\")"
   ]
  },
  {
   "cell_type": "code",
   "execution_count": 14,
   "id": "edd32ebd-9cb8-41b6-8224-9d14d8d6c969",
   "metadata": {},
   "outputs": [],
   "source": [
    "# Q7"
   ]
  },
  {
   "cell_type": "code",
   "execution_count": 15,
   "id": "ebbd07fb-eadd-4959-b14f-3dd22ad1b5f2",
   "metadata": {},
   "outputs": [
    {
     "name": "stdin",
     "output_type": "stream",
     "text": [
      "Enter a number:  -4.5\n"
     ]
    },
    {
     "name": "stdout",
     "output_type": "stream",
     "text": [
      "The absolute value of the number is: 4.5\n"
     ]
    }
   ],
   "source": [
    "def absolute_value(num):\n",
    "    if num < 0:\n",
    "        return -num\n",
    "    else:\n",
    "        return num\n",
    "\n",
    "# Input a number from the user\n",
    "num = float(input(\"Enter a number: \"))\n",
    "\n",
    "# Call the absolute_value function\n",
    "result = absolute_value(num)\n",
    "\n",
    "print(\"The absolute value of the number is:\", result)"
   ]
  },
  {
   "cell_type": "code",
   "execution_count": null,
   "id": "44285797-8e75-4ea0-bb9e-42e55205caf8",
   "metadata": {},
   "outputs": [],
   "source": [
    "# Q8"
   ]
  },
  {
   "cell_type": "code",
   "execution_count": 16,
   "id": "ff71cd73-6c1e-471f-97f0-72e03461757f",
   "metadata": {},
   "outputs": [
    {
     "name": "stdin",
     "output_type": "stream",
     "text": [
      "Enter the first number:  -2.8\n",
      "Enter the second number:  35\n",
      "Enter the third number:  10\n"
     ]
    },
    {
     "name": "stdout",
     "output_type": "stream",
     "text": [
      "The largest number is: 35.0\n"
     ]
    }
   ],
   "source": [
    "num1 = float(input(\"Enter the first number: \"))\n",
    "num2 = float(input(\"Enter the second number: \"))\n",
    "num3 = float(input(\"Enter the third number: \"))\n",
    "\n",
    "# Find the largest number using if-else\n",
    "if num1 >= num2 and num1 >= num3:\n",
    "    largest = num1\n",
    "elif num2 >= num1 and num2 >= num3:\n",
    "    largest = num2\n",
    "else:\n",
    "    largest = num3\n",
    "\n",
    "print(\"The largest number is:\", largest)"
   ]
  },
  {
   "cell_type": "code",
   "execution_count": null,
   "id": "f73f1dff-4d88-44e5-8ab6-b08a7ee64044",
   "metadata": {},
   "outputs": [],
   "source": [
    "# Q9"
   ]
  },
  {
   "cell_type": "code",
   "execution_count": 17,
   "id": "e46dbc6f-33db-4274-b537-e36ef70cef05",
   "metadata": {},
   "outputs": [
    {
     "name": "stdin",
     "output_type": "stream",
     "text": [
      "Enter a string:  level\n"
     ]
    },
    {
     "name": "stdout",
     "output_type": "stream",
     "text": [
      "The string is a palindrome.\n"
     ]
    }
   ],
   "source": [
    "string = input(\"Enter a string: \")\n",
    "\n",
    "# Remove spaces and convert to lowercase for case-insensitive comparison\n",
    "cleaned_string = string.replace(\" \", \"\").lower()\n",
    "\n",
    "# Check if it's a palindrome\n",
    "if cleaned_string == cleaned_string[::-1]:\n",
    "    print(\"The string is a palindrome.\")\n",
    "else:\n",
    "    print(\"The string is not a palindrome.\")"
   ]
  },
  {
   "cell_type": "code",
   "execution_count": null,
   "id": "8a8f9796-52df-4706-9d31-6fc23fbe79b3",
   "metadata": {},
   "outputs": [],
   "source": [
    "# Q10"
   ]
  },
  {
   "cell_type": "code",
   "execution_count": 8,
   "id": "2ef2e295-d02d-4b81-b2fa-f3982accd8ae",
   "metadata": {},
   "outputs": [
    {
     "name": "stdin",
     "output_type": "stream",
     "text": [
      "Enter the exam score:  91\n"
     ]
    },
    {
     "name": "stdout",
     "output_type": "stream",
     "text": [
      "The grade is: A\n"
     ]
    }
   ],
   "source": [
    "exam_score = float(input(\"Enter the exam score: \"))\n",
    "\n",
    "# the grade based on the score\n",
    "if 90 <= exam_score <= 100:\n",
    "    grade = \"A\"\n",
    "elif 80 <= exam_score < 90:\n",
    "    grade = \"B\"\n",
    "elif 70 <= exam_score < 80:\n",
    "    grade = \"C\"\n",
    "elif 60 <= exam_score < 70:\n",
    "    grade = \"D\"\n",
    "else:\n",
    "    grade = \"F\"\n",
    "\n",
    "print(\"The grade is:\", grade)"
   ]
  },
  {
   "cell_type": "code",
   "execution_count": 9,
   "id": "4716397e-5f1a-4db6-9728-e114b1730c8b",
   "metadata": {},
   "outputs": [],
   "source": []
  },
  {
   "cell_type": "code",
   "execution_count": null,
   "id": "8f7ba0d8-636c-417b-94d9-75ed2e2cbafa",
   "metadata": {},
   "outputs": [],
   "source": [
    "                                                Nested If-Else Statements"
   ]
  },
  {
   "cell_type": "code",
   "execution_count": 18,
   "id": "cbac1c48-e432-4d3a-91e0-5f1075f0a51e",
   "metadata": {},
   "outputs": [],
   "source": [
    "# Q11"
   ]
  },
  {
   "cell_type": "code",
   "execution_count": 20,
   "id": "ad653d6c-f4aa-43b5-b2b3-be420a1e22f1",
   "metadata": {},
   "outputs": [
    {
     "name": "stdin",
     "output_type": "stream",
     "text": [
      "Enter the first number:  3.42\n",
      "Enter the second number:  2.341\n",
      "Enter the third number:  2.34\n"
     ]
    },
    {
     "name": "stdout",
     "output_type": "stream",
     "text": [
      "The largest number is: 3.42\n"
     ]
    }
   ],
   "source": [
    "num1 = float(input(\"Enter the first number: \"))\n",
    "num2 = float(input(\"Enter the second number: \"))\n",
    "num3 = float(input(\"Enter the third number: \"))\n",
    "\n",
    "# Find the largest number using nested if-else\n",
    "if num1 >= num2:\n",
    "    if num1 >= num3:\n",
    "        largest = num1\n",
    "    else:\n",
    "        largest = num3\n",
    "else:\n",
    "    if num2 >= num3:\n",
    "        largest = num2\n",
    "    else:\n",
    "        largest = num3\n",
    "\n",
    "print(\"The largest number is:\", largest)"
   ]
  },
  {
   "cell_type": "code",
   "execution_count": 21,
   "id": "c5f52834-a707-445b-bf5d-630a78d352c4",
   "metadata": {},
   "outputs": [],
   "source": [
    "# Q12"
   ]
  },
  {
   "cell_type": "code",
   "execution_count": 22,
   "id": "406009b8-686b-4073-90e0-0b81baaa8fbd",
   "metadata": {},
   "outputs": [
    {
     "name": "stdin",
     "output_type": "stream",
     "text": [
      "Enter the length of side 1:  7\n",
      "Enter the length of side 2:  7.2\n",
      "Enter the length of side 3:  8\n"
     ]
    },
    {
     "name": "stdout",
     "output_type": "stream",
     "text": [
      "The triangle is: Scalene\n"
     ]
    }
   ],
   "source": [
    "side1 = float(input(\"Enter the length of side 1: \"))\n",
    "side2 = float(input(\"Enter the length of side 2: \"))\n",
    "side3 = float(input(\"Enter the length of side 3: \"))\n",
    "\n",
    "# Determine the type of triangle\n",
    "if side1 == side2 == side3:\n",
    "    triangle_type = \"Equilateral\"\n",
    "elif side1 == side2 or side1 == side3 or side2 == side3:\n",
    "    triangle_type = \"Isosceles\"\n",
    "else:\n",
    "    triangle_type = \"Scalene\"\n",
    "\n",
    "print(\"The triangle is:\", triangle_type)"
   ]
  },
  {
   "cell_type": "code",
   "execution_count": null,
   "id": "50cb5492-4dd5-4912-8df4-1f6be546abcf",
   "metadata": {},
   "outputs": [],
   "source": [
    "# Q13"
   ]
  },
  {
   "cell_type": "code",
   "execution_count": 23,
   "id": "063e371d-3b88-435d-9226-726791bb002e",
   "metadata": {},
   "outputs": [
    {
     "name": "stdin",
     "output_type": "stream",
     "text": [
      "Enter a year:  2000\n"
     ]
    },
    {
     "name": "stdout",
     "output_type": "stream",
     "text": [
      "2000 is a leap year.\n",
      "2000 is a century year.\n"
     ]
    }
   ],
   "source": [
    "year = int(input(\"Enter a year: \"))\n",
    "\n",
    "# Check if it's a leap year\n",
    "if (year % 4 == 0 and year % 100 != 0) or (year % 400 == 0):\n",
    "    print(year, \"is a leap year.\")\n",
    "else:\n",
    "    print(year, \"is not a leap year.\")\n",
    "\n",
    "# Check if it's a century year\n",
    "if year % 100 == 0:\n",
    "    print(year, \"is a century year.\")"
   ]
  },
  {
   "cell_type": "code",
   "execution_count": null,
   "id": "d8666651-4e17-4c53-bc70-e51f4e3622a6",
   "metadata": {},
   "outputs": [],
   "source": [
    "# Q14"
   ]
  },
  {
   "cell_type": "code",
   "execution_count": 24,
   "id": "d9ffb306-faf9-4d9b-a167-3049cce771d5",
   "metadata": {},
   "outputs": [
    {
     "name": "stdin",
     "output_type": "stream",
     "text": [
      "Enter a number:  99.99\n"
     ]
    },
    {
     "name": "stdout",
     "output_type": "stream",
     "text": [
      "The number is positive.\n"
     ]
    }
   ],
   "source": [
    "num = float(input(\"Enter a number: \"))\n",
    "\n",
    "if num > 0:\n",
    "    print(\"The number is positive.\")\n",
    "elif num < 0:\n",
    "    print(\"The number is negative.\")\n",
    "else:\n",
    "    print(\"The number is zero.\")"
   ]
  },
  {
   "cell_type": "code",
   "execution_count": null,
   "id": "627ea315-4f85-4662-b773-8826a7343bef",
   "metadata": {},
   "outputs": [],
   "source": [
    "# Q15"
   ]
  },
  {
   "cell_type": "code",
   "execution_count": 25,
   "id": "01419858-f40c-4a29-ab0d-b0251224f8d7",
   "metadata": {},
   "outputs": [
    {
     "name": "stdin",
     "output_type": "stream",
     "text": [
      "Enter your age:  18\n"
     ]
    },
    {
     "name": "stdout",
     "output_type": "stream",
     "text": [
      "You are a teenager.\n"
     ]
    }
   ],
   "source": [
    "age = int(input(\"Enter your age: \"))\n",
    "\n",
    "# Check if the person is a teenager\n",
    "if 13 <= age <= 19:\n",
    "    print(\"You are a teenager.\")\n",
    "else:\n",
    "    print(\"You are not a teenager.\")"
   ]
  },
  {
   "cell_type": "code",
   "execution_count": null,
   "id": "93214fb5-f7b1-475e-a3b4-c5030e45f199",
   "metadata": {},
   "outputs": [],
   "source": [
    "# Q16"
   ]
  },
  {
   "cell_type": "code",
   "execution_count": 2,
   "id": "56de4cbc-4f77-4f0c-8f99-5808f55e16cf",
   "metadata": {},
   "outputs": [
    {
     "name": "stdin",
     "output_type": "stream",
     "text": [
      "Enter the measure of the angle:  180\n"
     ]
    },
    {
     "name": "stdout",
     "output_type": "stream",
     "text": [
      "The angle is a straight angle.\n"
     ]
    }
   ],
   "source": [
    "angle_measure = float(input(\"Enter the measure of the angle: \"))\n",
    "\n",
    "if angle_measure < 90:\n",
    "    print(\"The angle is acute.\")\n",
    "elif angle_measure == 90:\n",
    "    print(\"The angle is a right angle.\")\n",
    "elif angle_measure > 90 and angle_measure < 180:\n",
    "    print(\"The angle is obtuse.\")\n",
    "else:\n",
    "    print(\"The angle is a straight angle.\")"
   ]
  },
  {
   "cell_type": "code",
   "execution_count": 3,
   "id": "eb4edc4f-0738-4dbf-86d7-2707eaf09c21",
   "metadata": {},
   "outputs": [],
   "source": [
    "# Q17"
   ]
  },
  {
   "cell_type": "code",
   "execution_count": 5,
   "id": "526f8a32-b59f-4122-a890-f387ce9f2121",
   "metadata": {},
   "outputs": [
    {
     "name": "stdin",
     "output_type": "stream",
     "text": [
      "Enter the coefficient a:  2\n",
      "Enter the coefficient b:  12\n",
      "Enter the coefficient c:  6\n"
     ]
    },
    {
     "name": "stdout",
     "output_type": "stream",
     "text": [
      "The roots are real and distinct: -0.5505102572168221 and -5.449489742783178\n"
     ]
    }
   ],
   "source": [
    "import math\n",
    "\n",
    "a = float(input(\"Enter the coefficient a: \"))\n",
    "b = float(input(\"Enter the coefficient b: \"))\n",
    "c = float(input(\"Enter the coefficient c: \"))\n",
    "\n",
    "discriminant = b**2 - 4*a*c\n",
    "\n",
    "if discriminant > 0:\n",
    "    root1 = (-b + math.sqrt(discriminant)) / (2*a)\n",
    "    root2 = (-b - math.sqrt(discriminant)) / (2*a)\n",
    "    print(f\"The roots are real and distinct: {root1} and {root2}\")\n",
    "elif discriminant == 0:\n",
    "    root1 = -b / (2*a)\n",
    "    print(f\"The root is real and equal: {root1}\")\n",
    "else:\n",
    "    real_part = -b / (2*a)\n",
    "    imaginary_part = math.sqrt(-discriminant) / (2*a)\n",
    "    print(f\"The roots are complex: {real_part} + {imaginary_part}i and {real_part} - {imaginary_part}i\")"
   ]
  },
  {
   "cell_type": "code",
   "execution_count": 6,
   "id": "0a6b1940-61ae-4113-96c8-822f60d290e3",
   "metadata": {},
   "outputs": [],
   "source": [
    "# Q18"
   ]
  },
  {
   "cell_type": "code",
   "execution_count": 8,
   "id": "37435629-0d8e-49a4-82b9-bd85440df5fc",
   "metadata": {},
   "outputs": [
    {
     "name": "stdin",
     "output_type": "stream",
     "text": [
      "Enter a number (1 for Monday, 2 for Tuesday, etc.):  6\n"
     ]
    },
    {
     "name": "stdout",
     "output_type": "stream",
     "text": [
      "The day is Saturday.\n"
     ]
    }
   ],
   "source": [
    "day_number = int(input(\"Enter a number (1 for Monday, 2 for Tuesday, etc.): \"))\n",
    "\n",
    "if day_number == 1:\n",
    "    print(\"The day is Monday.\")\n",
    "elif day_number == 2:\n",
    "    print(\"The day is Tuesday.\")\n",
    "elif day_number == 3:\n",
    "    print(\"The day is Wednesday.\")\n",
    "elif day_number == 4:\n",
    "    print(\"The day is Thursday.\")\n",
    "elif day_number == 5:\n",
    "    print(\"The day is Friday.\")\n",
    "elif day_number == 6:\n",
    "    print(\"The day is Saturday.\")\n",
    "elif day_number == 7:\n",
    "    print(\"The day is Sunday.\")\n",
    "else:\n",
    "    print(\"Invalid input. Please enter a number between 1 and 7.\")"
   ]
  },
  {
   "cell_type": "code",
   "execution_count": 9,
   "id": "4504f96f-473d-4214-a2b4-6d5565125cc7",
   "metadata": {},
   "outputs": [],
   "source": [
    "# Q19"
   ]
  },
  {
   "cell_type": "code",
   "execution_count": 12,
   "id": "0d38eaf8-9367-48cb-b285-fc77068c6b82",
   "metadata": {},
   "outputs": [
    {
     "name": "stdin",
     "output_type": "stream",
     "text": [
      "Enter a year:  2020\n"
     ]
    },
    {
     "name": "stdout",
     "output_type": "stream",
     "text": [
      "2020 is a leap year.\n"
     ]
    }
   ],
   "source": [
    "year = int(input(\"Enter a year: \"))\n",
    "\n",
    "if (year % 4 == 0 and year % 100 != 0) or (year % 400 == 0):\n",
    "    print(f\"{year} is a leap year.\")\n",
    "else:\n",
    "    print(f\"{year} is not a leap year.\")"
   ]
  },
  {
   "cell_type": "code",
   "execution_count": 13,
   "id": "5bc9af26-a0c1-47cd-a75a-1bf2afb7e41b",
   "metadata": {},
   "outputs": [],
   "source": [
    "# Q20"
   ]
  },
  {
   "cell_type": "code",
   "execution_count": 14,
   "id": "c479d35e-d1d4-48f8-b4ea-22715d95e53c",
   "metadata": {},
   "outputs": [
    {
     "name": "stdin",
     "output_type": "stream",
     "text": [
      "Enter a number:  19\n"
     ]
    },
    {
     "name": "stdout",
     "output_type": "stream",
     "text": [
      "19 is a prime number.\n"
     ]
    }
   ],
   "source": [
    "num = int(input(\"Enter a number: \"))\n",
    "\n",
    "if num > 1:\n",
    "    for i in range(2, int(num/2) + 1):\n",
    "        if (num % i) == 0:\n",
    "            print(f\"{num} is not a prime number.\")\n",
    "            break\n",
    "    else:\n",
    "        print(f\"{num} is a prime number.\")\n",
    "else:\n",
    "    print(f\"{num} is not a prime number.\")"
   ]
  },
  {
   "cell_type": "code",
   "execution_count": null,
   "id": "d041380b-eb9c-4899-a939-ba04254fc539",
   "metadata": {},
   "outputs": [],
   "source": []
  },
  {
   "cell_type": "code",
   "execution_count": null,
   "id": "41f5ee4d-7b68-4c1a-9ce8-1728f206392d",
   "metadata": {},
   "outputs": [],
   "source": [
    "                                                                Elif Statements"
   ]
  },
  {
   "cell_type": "code",
   "execution_count": 16,
   "id": "96e5d315-c53a-4efb-bad7-4da770458b5e",
   "metadata": {},
   "outputs": [],
   "source": [
    "# Q21"
   ]
  },
  {
   "cell_type": "code",
   "execution_count": 17,
   "id": "3f819fd1-5e09-4e0c-9b50-4fb6da717b57",
   "metadata": {},
   "outputs": [
    {
     "name": "stdin",
     "output_type": "stream",
     "text": [
      "Enter the student's score:  88.80\n"
     ]
    },
    {
     "name": "stdout",
     "output_type": "stream",
     "text": [
      "The student's grade is B\n"
     ]
    }
   ],
   "source": [
    "score = float(input(\"Enter the student's score: \"))\n",
    "\n",
    "if score >= 90:\n",
    "    grade = 'A'\n",
    "elif score >= 80:\n",
    "    grade = 'B'\n",
    "elif score >= 70:\n",
    "    grade = 'C'\n",
    "elif score >= 60:\n",
    "    grade = 'D'\n",
    "else:\n",
    "    grade = 'F'\n",
    "\n",
    "print(f\"The student's grade is {grade}\")"
   ]
  },
  {
   "cell_type": "code",
   "execution_count": 18,
   "id": "8c09eb40-b9ef-48ae-a6a7-79311bfb1b4b",
   "metadata": {},
   "outputs": [],
   "source": [
    "# Q22"
   ]
  },
  {
   "cell_type": "code",
   "execution_count": 19,
   "id": "a306782d-6210-4fef-9823-30a9c6ca4814",
   "metadata": {},
   "outputs": [
    {
     "name": "stdin",
     "output_type": "stream",
     "text": [
      "Enter the first angle:  60\n",
      "Enter the second angle:  61\n",
      "Enter the third angle:  60\n"
     ]
    },
    {
     "name": "stdout",
     "output_type": "stream",
     "text": [
      "The triangle is isosceles.\n"
     ]
    }
   ],
   "source": [
    "angle1 = int(input(\"Enter the first angle: \"))\n",
    "angle2 = int(input(\"Enter the second angle: \"))\n",
    "angle3 = int(input(\"Enter the third angle: \"))\n",
    "\n",
    "if angle1 == angle2 == angle3 == 60:\n",
    "    print(\"The triangle is equilateral.\")\n",
    "elif angle1 == angle2 or angle2 == angle3 or angle3 == angle1:\n",
    "    print(\"The triangle is isosceles.\")\n",
    "else:\n",
    "    print(\"The triangle is scalene.\")"
   ]
  },
  {
   "cell_type": "code",
   "execution_count": 20,
   "id": "3b1d12a9-0be0-4b8c-b900-aac4789f212e",
   "metadata": {},
   "outputs": [],
   "source": [
    "# Q23"
   ]
  },
  {
   "cell_type": "code",
   "execution_count": 24,
   "id": "a674b139-0f8d-429b-8faa-5e6006a05f44",
   "metadata": {},
   "outputs": [
    {
     "name": "stdin",
     "output_type": "stream",
     "text": [
      "Enter the person's weight (in kg):  39\n",
      "Enter the person's height (in meters):  1.61\n"
     ]
    },
    {
     "name": "stdout",
     "output_type": "stream",
     "text": [
      "The person's BMI category is underweight.\n"
     ]
    }
   ],
   "source": [
    "weight = float(input(\"Enter the person's weight (in kg): \"))\n",
    "height = float(input(\"Enter the person's height (in meters): \"))\n",
    "\n",
    "bmi = weight / (height ** 2)\n",
    "\n",
    "if bmi < 18.5:\n",
    "    category = \"underweight\"\n",
    "elif bmi < 24.9:\n",
    "    category = \"normal\"\n",
    "elif bmi < 29.9:\n",
    "    category = \"overweight\"\n",
    "else:\n",
    "    category = \"obese\"\n",
    "\n",
    "print(f\"The person's BMI category is {category}.\")"
   ]
  },
  {
   "cell_type": "code",
   "execution_count": 25,
   "id": "ab4f4848-d789-4f20-945c-5e230f028754",
   "metadata": {},
   "outputs": [],
   "source": [
    "# Q24"
   ]
  },
  {
   "cell_type": "code",
   "execution_count": 26,
   "id": "773eb147-2ab1-49e6-8067-739a2ecf1790",
   "metadata": {},
   "outputs": [
    {
     "name": "stdin",
     "output_type": "stream",
     "text": [
      "Enter a number:  0.99\n"
     ]
    },
    {
     "name": "stdout",
     "output_type": "stream",
     "text": [
      "The number is positive.\n"
     ]
    }
   ],
   "source": [
    "num = float(input(\"Enter a number: \"))\n",
    "\n",
    "if num > 0:\n",
    "    result = \"positive\"\n",
    "elif num < 0:\n",
    "    result = \"negative\"\n",
    "else:\n",
    "    result = \"zero\"\n",
    "\n",
    "print(f\"The number is {result}.\")"
   ]
  },
  {
   "cell_type": "code",
   "execution_count": 27,
   "id": "ab0c04fd-e4c5-4457-8441-40636889dc28",
   "metadata": {},
   "outputs": [],
   "source": [
    "# Q25"
   ]
  },
  {
   "cell_type": "code",
   "execution_count": 28,
   "id": "582bdc8c-08a8-44e7-b4dd-484758832398",
   "metadata": {},
   "outputs": [
    {
     "name": "stdin",
     "output_type": "stream",
     "text": [
      "Enter a character:  Divy@17\n"
     ]
    },
    {
     "name": "stdout",
     "output_type": "stream",
     "text": [
      "The character is a special character character.\n"
     ]
    }
   ],
   "source": [
    "char = input(\"Enter a character: \")\n",
    "\n",
    "if char.isalpha():\n",
    "    if char.islower():\n",
    "        result = \"lowercase\"\n",
    "    else:\n",
    "        result = \"uppercase\"\n",
    "else:\n",
    "    result = \"special character\"\n",
    "\n",
    "print(f\"The character is a {result} character.\")"
   ]
  },
  {
   "cell_type": "code",
   "execution_count": 30,
   "id": "c672470b-daab-492a-8df5-59d8a58bee3e",
   "metadata": {},
   "outputs": [],
   "source": [
    "# Q26"
   ]
  },
  {
   "cell_type": "code",
   "execution_count": 31,
   "id": "fffd28d0-ffec-4337-aa12-2a2b8f7e0793",
   "metadata": {},
   "outputs": [
    {
     "name": "stdin",
     "output_type": "stream",
     "text": [
      "Enter the purchase amount:  12000\n"
     ]
    },
    {
     "name": "stdout",
     "output_type": "stream",
     "text": [
      "The discounted price is: $10800.00\n"
     ]
    }
   ],
   "source": [
    "purchase_amount = float(input(\"Enter the purchase amount: \"))\n",
    "\n",
    "if purchase_amount >= 1000:\n",
    "    discount = 0.10  # 10% discount for purchases over $1000\n",
    "elif purchase_amount >= 500:\n",
    "    discount = 0.05  # 5% discount for purchases between $500 and $999.99\n",
    "else:\n",
    "    discount = 0  # No discount for purchases under $500\n",
    "\n",
    "discounted_price = purchase_amount - (purchase_amount * discount)\n",
    "print(f\"The discounted price is: ${discounted_price:.2f}\")"
   ]
  },
  {
   "cell_type": "code",
   "execution_count": 32,
   "id": "197442f8-6e56-430c-a1f4-b3c58e5cd0e8",
   "metadata": {},
   "outputs": [],
   "source": [
    "# Q27"
   ]
  },
  {
   "cell_type": "code",
   "execution_count": 35,
   "id": "2d73c5b9-cce7-49e0-9906-4b2e6cd3ec9b",
   "metadata": {},
   "outputs": [
    {
     "name": "stdin",
     "output_type": "stream",
     "text": [
      "Enter the electricity consumption (in kWh):  2000\n"
     ]
    },
    {
     "name": "stdout",
     "output_type": "stream",
     "text": [
      "The electricity bill is: $400.00\n"
     ]
    }
   ],
   "source": [
    "consumption = float(input(\"Enter the electricity consumption (in kWh): \"))\n",
    "\n",
    "if consumption <= 100:\n",
    "    rate = 0.10  # $0.10 per kWh for the first 100 kWh\n",
    "elif consumption <= 300:\n",
    "    rate = 0.15  # $0.15 per kWh for the next 200 kWh\n",
    "else:\n",
    "    rate = 0.20  # $0.20 per kWh for any additional kWh\n",
    "\n",
    "electricity_bill = consumption * rate\n",
    "print(f\"The electricity bill is: ${electricity_bill:.2f}\")"
   ]
  },
  {
   "cell_type": "code",
   "execution_count": 36,
   "id": "b1e7580f-4e1b-44b8-a620-cf63c4d248ea",
   "metadata": {},
   "outputs": [],
   "source": [
    "# Q28"
   ]
  },
  {
   "cell_type": "code",
   "execution_count": 37,
   "id": "f823e9ad-8bbd-4049-98be-1d586f3bd949",
   "metadata": {},
   "outputs": [
    {
     "name": "stdin",
     "output_type": "stream",
     "text": [
      "Enter the first angle:  60\n",
      "Enter the second angle:  60\n",
      "Enter the third angle:  60\n",
      "Enter the fourth angle:  60\n",
      "Enter the length of side 1:  12\n",
      "Enter the length of side 2:  10\n",
      "Enter the length of side 3:  10\n",
      "Enter the length of side 4:  12\n"
     ]
    },
    {
     "name": "stdout",
     "output_type": "stream",
     "text": [
      "The quadrilateral is a parallelogram.\n"
     ]
    }
   ],
   "source": [
    "angle1 = int(input(\"Enter the first angle: \"))\n",
    "angle2 = int(input(\"Enter the second angle: \"))\n",
    "angle3 = int(input(\"Enter the third angle: \"))\n",
    "angle4 = int(input(\"Enter the fourth angle: \"))\n",
    "side1 = int(input(\"Enter the length of side 1: \"))\n",
    "side2 = int(input(\"Enter the length of side 2: \"))\n",
    "side3 = int(input(\"Enter the length of side 3: \"))\n",
    "side4 = int(input(\"Enter the length of side 4: \"))\n",
    "\n",
    "if angle1 == angle2 == angle3 == angle4 == 90:\n",
    "    if side1 == side2 == side3 == side4:\n",
    "        quadrilateral_type = \"square\"\n",
    "    else:\n",
    "        quadrilateral_type = \"rectangle\"\n",
    "elif angle1 == angle2 == angle3 == angle4 != 90:\n",
    "    if side1 == side2 == side3 == side4:\n",
    "        quadrilateral_type = \"rhombus\"\n",
    "    else:\n",
    "        quadrilateral_type = \"parallelogram\"\n",
    "else:\n",
    "    quadrilateral_type = \"other\"\n",
    "\n",
    "print(f\"The quadrilateral is a {quadrilateral_type}.\")"
   ]
  },
  {
   "cell_type": "code",
   "execution_count": null,
   "id": "1a92b6ca-c147-4c45-88de-8bdbbfa3c018",
   "metadata": {},
   "outputs": [],
   "source": [
    "# Q29"
   ]
  },
  {
   "cell_type": "code",
   "execution_count": 38,
   "id": "76e1b4ed-3324-4eeb-9dd7-5e4e83148c47",
   "metadata": {},
   "outputs": [
    {
     "name": "stdin",
     "output_type": "stream",
     "text": [
      "Enter a month (e.g., January, February, etc.):  November\n"
     ]
    },
    {
     "name": "stdout",
     "output_type": "stream",
     "text": [
      "The season for November is fall.\n"
     ]
    }
   ],
   "source": [
    "month = input(\"Enter a month (e.g., January, February, etc.): \")\n",
    "\n",
    "if month in (\"December\", \"January\", \"February\"):\n",
    "    season = \"winter\"\n",
    "elif month in (\"March\", \"April\", \"May\"):\n",
    "    season = \"spring\"\n",
    "elif month in (\"June\", \"July\", \"August\"):\n",
    "    season = \"summer\"\n",
    "else:\n",
    "    season = \"fall\"\n",
    "\n",
    "print(f\"The season for {month} is {season}.\")"
   ]
  },
  {
   "cell_type": "code",
   "execution_count": 39,
   "id": "bcd0b328-b46d-46e1-a254-cfa54fd20195",
   "metadata": {},
   "outputs": [],
   "source": [
    "# Q30"
   ]
  },
  {
   "cell_type": "code",
   "execution_count": 40,
   "id": "8014aa24-8dbf-431f-a690-d1a83cd9d02a",
   "metadata": {},
   "outputs": [
    {
     "name": "stdin",
     "output_type": "stream",
     "text": [
      "Enter a year:  2005\n",
      "Enter a month (e.g., January, February, etc.):  June\n"
     ]
    },
    {
     "name": "stdout",
     "output_type": "stream",
     "text": [
      "2005 is a common year and June has 30 days.\n"
     ]
    }
   ],
   "source": [
    "year = int(input(\"Enter a year: \"))\n",
    "month = input(\"Enter a month (e.g., January, February, etc.): \")\n",
    "\n",
    "if (year % 4 == 0 and year % 100 != 0) or (year % 400 == 0):\n",
    "    year_type = \"leap year\"\n",
    "else:\n",
    "    year_type = \"common year\"\n",
    "\n",
    "if month in (\"April\", \"June\", \"September\", \"November\"):\n",
    "    days_in_month = 30\n",
    "elif month == \"February\":\n",
    "    if year_type == \"leap year\":\n",
    "        days_in_month = 29\n",
    "    else:\n",
    "        days_in_month = 28\n",
    "else:\n",
    "    days_in_month = 31\n",
    "\n",
    "print(f\"{year} is a {year_type} and {month} has {days_in_month} days.\")"
   ]
  },
  {
   "cell_type": "code",
   "execution_count": null,
   "id": "08ae2e77-817b-4a69-a049-33391a9c35f1",
   "metadata": {},
   "outputs": [],
   "source": []
  },
  {
   "cell_type": "code",
   "execution_count": null,
   "id": "ce438455-6d28-4de1-ac9f-8aee036e99b7",
   "metadata": {},
   "outputs": [],
   "source": [
    "                                                    Basic Level"
   ]
  },
  {
   "cell_type": "code",
   "execution_count": null,
   "id": "bf3ff969-ef4f-4167-bb26-8edbf7f18052",
   "metadata": {},
   "outputs": [],
   "source": [
    "# Q1"
   ]
  },
  {
   "cell_type": "code",
   "execution_count": 41,
   "id": "eb2723cc-047f-49b7-8998-8ee2db4ea1e7",
   "metadata": {},
   "outputs": [
    {
     "name": "stdin",
     "output_type": "stream",
     "text": [
      "Enter a number:  0\n"
     ]
    },
    {
     "name": "stdout",
     "output_type": "stream",
     "text": [
      "The number is zero.\n"
     ]
    }
   ],
   "source": [
    "num = float(input(\"Enter a number: \"))\n",
    "\n",
    "if num > 0:\n",
    "    print(\"The number is positive.\")\n",
    "elif num < 0:\n",
    "    print(\"The number is negative.\")\n",
    "else:\n",
    "    print(\"The number is zero.\")"
   ]
  },
  {
   "cell_type": "code",
   "execution_count": 42,
   "id": "cdc6784b-e477-4b18-b05a-a2a610b7dd2c",
   "metadata": {},
   "outputs": [],
   "source": [
    "# Q2"
   ]
  },
  {
   "cell_type": "code",
   "execution_count": 43,
   "id": "df51e277-d2ea-44b1-bdcb-44181f1bdf1d",
   "metadata": {},
   "outputs": [
    {
     "name": "stdin",
     "output_type": "stream",
     "text": [
      "Enter your age:  20\n"
     ]
    },
    {
     "name": "stdout",
     "output_type": "stream",
     "text": [
      "You are eligible to vote.\n"
     ]
    }
   ],
   "source": [
    "age = int(input(\"Enter your age: \"))\n",
    "\n",
    "if age >= 18:\n",
    "    print(\"You are eligible to vote.\")\n",
    "else:\n",
    "    print(\"You are not eligible to vote.\")"
   ]
  },
  {
   "cell_type": "code",
   "execution_count": 44,
   "id": "bdd48a5f-c862-4e0e-8a1a-3429a085545c",
   "metadata": {},
   "outputs": [],
   "source": [
    "# Q3"
   ]
  },
  {
   "cell_type": "code",
   "execution_count": 45,
   "id": "c27e1cc9-24d7-4262-80e0-f1fbc245028f",
   "metadata": {},
   "outputs": [
    {
     "name": "stdin",
     "output_type": "stream",
     "text": [
      "Enter the first number:  32.04\n",
      "Enter the second number:  32.004\n"
     ]
    },
    {
     "name": "stdout",
     "output_type": "stream",
     "text": [
      "The maximum number is 32.04.\n"
     ]
    }
   ],
   "source": [
    "num1 = float(input(\"Enter the first number: \"))\n",
    "num2 = float(input(\"Enter the second number: \"))\n",
    "\n",
    "if num1 > num2:\n",
    "    print(f\"The maximum number is {num1}.\")\n",
    "elif num2 > num1:\n",
    "    print(f\"The maximum number is {num2}.\")\n",
    "else:\n",
    "    print(\"Both numbers are equal.\")"
   ]
  },
  {
   "cell_type": "code",
   "execution_count": 46,
   "id": "9786be36-5203-433f-b160-3f4aa68bed49",
   "metadata": {},
   "outputs": [],
   "source": [
    "# Q4"
   ]
  },
  {
   "cell_type": "code",
   "execution_count": 47,
   "id": "8bca60d5-05c7-40a8-a04d-2ec7d1e42cbe",
   "metadata": {},
   "outputs": [
    {
     "name": "stdin",
     "output_type": "stream",
     "text": [
      "Enter the exam score:  90\n"
     ]
    },
    {
     "name": "stdout",
     "output_type": "stream",
     "text": [
      "Your grade is A.\n"
     ]
    }
   ],
   "source": [
    "exam_score = float(input(\"Enter the exam score: \"))\n",
    "\n",
    "if exam_score >= 90:\n",
    "    grade = \"A\"\n",
    "elif exam_score >= 80:\n",
    "    grade = \"B\"\n",
    "elif exam_score >= 70:\n",
    "    grade = \"C\"\n",
    "elif exam_score >= 60:\n",
    "    grade = \"D\"\n",
    "else:\n",
    "    grade = \"F\"\n",
    "\n",
    "print(f\"Your grade is {grade}.\")"
   ]
  },
  {
   "cell_type": "code",
   "execution_count": 48,
   "id": "f75671b6-1e00-466b-9dd5-2eae5af8f07e",
   "metadata": {},
   "outputs": [],
   "source": [
    "# Q5"
   ]
  },
  {
   "cell_type": "code",
   "execution_count": 49,
   "id": "c4764e82-94c5-4eff-aaba-bb820790af85",
   "metadata": {},
   "outputs": [
    {
     "name": "stdin",
     "output_type": "stream",
     "text": [
      "Enter a year:  1998\n"
     ]
    },
    {
     "name": "stdout",
     "output_type": "stream",
     "text": [
      "1998 is not a leap year.\n"
     ]
    }
   ],
   "source": [
    "year = int(input(\"Enter a year: \"))\n",
    "\n",
    "if (year % 4 == 0 and year % 100 != 0) or (year % 400 == 0):\n",
    "    print(f\"{year} is a leap year.\")\n",
    "else:\n",
    "    print(f\"{year} is not a leap year.\")"
   ]
  },
  {
   "cell_type": "code",
   "execution_count": 50,
   "id": "6103c60f-f84d-489a-a3d5-3c385222baaf",
   "metadata": {},
   "outputs": [],
   "source": [
    "# Q6"
   ]
  },
  {
   "cell_type": "code",
   "execution_count": 51,
   "id": "c62d8985-8c9f-4b3f-8fc8-4ccd660e60a1",
   "metadata": {},
   "outputs": [
    {
     "name": "stdin",
     "output_type": "stream",
     "text": [
      "Enter the length of the first side:  12\n",
      "Enter the length of the second side:  12\n",
      "Enter the length of the third side:  12\n"
     ]
    },
    {
     "name": "stdout",
     "output_type": "stream",
     "text": [
      "The triangle is equilateral.\n"
     ]
    }
   ],
   "source": [
    "side1 = float(input(\"Enter the length of the first side: \"))\n",
    "side2 = float(input(\"Enter the length of the second side: \"))\n",
    "side3 = float(input(\"Enter the length of the third side: \"))\n",
    "\n",
    "if side1 == side2 == side3:\n",
    "    print(\"The triangle is equilateral.\")\n",
    "elif side1 == side2 or side2 == side3 or side3 == side1:\n",
    "    print(\"The triangle is isosceles.\")\n",
    "else:\n",
    "    print(\"The triangle is scalene.\")"
   ]
  },
  {
   "cell_type": "code",
   "execution_count": 52,
   "id": "48369b01-f07c-4a99-9047-f78025fb58db",
   "metadata": {},
   "outputs": [],
   "source": [
    "# Q7"
   ]
  },
  {
   "cell_type": "code",
   "execution_count": 53,
   "id": "827f9157-5038-47b3-b13f-128196714013",
   "metadata": {},
   "outputs": [
    {
     "name": "stdin",
     "output_type": "stream",
     "text": [
      "Enter the first number:  2.2\n",
      "Enter the second number:  23\n",
      "Enter the third number:  23.2\n"
     ]
    },
    {
     "name": "stdout",
     "output_type": "stream",
     "text": [
      "The largest number is 23.2.\n"
     ]
    }
   ],
   "source": [
    "num1 = float(input(\"Enter the first number: \"))\n",
    "num2 = float(input(\"Enter the second number: \"))\n",
    "num3 = float(input(\"Enter the third number: \"))\n",
    "\n",
    "largest = max(num1, num2, num3)\n",
    "print(f\"The largest number is {largest}.\")"
   ]
  },
  {
   "cell_type": "code",
   "execution_count": 1,
   "id": "517628ee-f6b9-44c2-bfd0-94f15eb76e48",
   "metadata": {},
   "outputs": [],
   "source": [
    "# Q8"
   ]
  },
  {
   "cell_type": "code",
   "execution_count": 3,
   "id": "9a40c63d-aabb-4919-842c-2a5f8f4ddd57",
   "metadata": {},
   "outputs": [
    {
     "name": "stdin",
     "output_type": "stream",
     "text": [
      "Enter a character:  k\n"
     ]
    },
    {
     "name": "stdout",
     "output_type": "stream",
     "text": [
      "The character is a consonant.\n"
     ]
    }
   ],
   "source": [
    "char = input(\"Enter a character: \")\n",
    "\n",
    "if char.lower() in ['a', 'e', 'i', 'o', 'u']:\n",
    "    print(\"The character is a vowel.\")\n",
    "else:\n",
    "    print(\"The character is a consonant.\")"
   ]
  },
  {
   "cell_type": "code",
   "execution_count": 4,
   "id": "0a664387-7659-46f9-9921-876d79d80a37",
   "metadata": {},
   "outputs": [],
   "source": [
    "# Q9"
   ]
  },
  {
   "cell_type": "code",
   "execution_count": 5,
   "id": "f5a495d4-d8a6-488c-8a30-b68ff5bc4cad",
   "metadata": {},
   "outputs": [
    {
     "name": "stdin",
     "output_type": "stream",
     "text": [
      "Enter the total cost of items in the cart:  5000\n"
     ]
    },
    {
     "name": "stdout",
     "output_type": "stream",
     "text": [
      "The total cost after discount is: $4500.00\n"
     ]
    }
   ],
   "source": [
    "total_cost = float(input(\"Enter the total cost of items in the cart: \"))\n",
    "\n",
    "if total_cost >= 100:\n",
    "    discount = 0.10  # 10% discount for purchases over $100\n",
    "else:\n",
    "    discount = 0\n",
    "\n",
    "discounted_price = total_cost - (total_cost * discount)\n",
    "print(f\"The total cost after discount is: ${discounted_price:.2f}\")"
   ]
  },
  {
   "cell_type": "code",
   "execution_count": null,
   "id": "870c94bf-df20-46bd-8f97-bf71b1bf8e13",
   "metadata": {},
   "outputs": [],
   "source": [
    "# Q10"
   ]
  },
  {
   "cell_type": "code",
   "execution_count": 6,
   "id": "8aff4c27-ac45-4c70-afb9-15f29b058505",
   "metadata": {},
   "outputs": [
    {
     "name": "stdin",
     "output_type": "stream",
     "text": [
      "Enter a number:  97\n"
     ]
    },
    {
     "name": "stdout",
     "output_type": "stream",
     "text": [
      "The number is odd.\n"
     ]
    }
   ],
   "source": [
    "num = int(input(\"Enter a number: \"))\n",
    "\n",
    "if num % 2 == 0:\n",
    "    print(\"The number is even.\")\n",
    "else:\n",
    "    print(\"The number is odd.\")"
   ]
  },
  {
   "cell_type": "code",
   "execution_count": null,
   "id": "707e1e3f-cd30-412a-b377-5ab3f2c436ac",
   "metadata": {},
   "outputs": [],
   "source": [
    "                                                     Intermediate Level"
   ]
  },
  {
   "cell_type": "code",
   "execution_count": null,
   "id": "5a758f52-682a-4867-baa3-6fab85cae405",
   "metadata": {},
   "outputs": [],
   "source": [
    "#  Q11"
   ]
  },
  {
   "cell_type": "code",
   "execution_count": 8,
   "id": "42ace872-6329-4cb6-b2a9-a614bff93698",
   "metadata": {},
   "outputs": [
    {
     "name": "stdin",
     "output_type": "stream",
     "text": [
      "Enter the coefficient a:  25\n",
      "Enter the coefficient b:  2\n",
      "Enter the coefficient c:  25\n"
     ]
    },
    {
     "name": "stdout",
     "output_type": "stream",
     "text": [
      "The roots are complex: -0.04 + 0.9991996797437437i and -0.04 - 0.9991996797437437i\n"
     ]
    }
   ],
   "source": [
    "import math\n",
    "\n",
    "a = float(input(\"Enter the coefficient a: \"))\n",
    "b = float(input(\"Enter the coefficient b: \"))\n",
    "c = float(input(\"Enter the coefficient c: \"))\n",
    "\n",
    "discriminant = b**2 - 4*a*c\n",
    "\n",
    "if discriminant > 0:\n",
    "    root1 = (-b + math.sqrt(discriminant)) / (2*a)\n",
    "    root2 = (-b - math.sqrt(discriminant)) / (2*a)\n",
    "    print(f\"The roots are real and distinct: {root1} and {root2}\")\n",
    "elif discriminant == 0:\n",
    "    root1 = -b / (2*a)\n",
    "    print(f\"The root is real and equal: {root1}\")\n",
    "else:\n",
    "    real_part = -b / (2*a)\n",
    "    imaginary_part = math.sqrt(-discriminant) / (2*a)\n",
    "    print(f\"The roots are complex: {real_part} + {imaginary_part}i and {real_part} - {imaginary_part}i\")"
   ]
  },
  {
   "cell_type": "code",
   "execution_count": null,
   "id": "85548630-9106-41e9-994d-8671b050a6fd",
   "metadata": {},
   "outputs": [],
   "source": [
    "# Q12"
   ]
  },
  {
   "cell_type": "code",
   "execution_count": 11,
   "id": "d051e728-a790-4219-aac8-8b1f8bd28cee",
   "metadata": {},
   "outputs": [
    {
     "name": "stdin",
     "output_type": "stream",
     "text": [
      "Enter a number (1 for Monday, 2 for Tuesday, etc.): 4\n"
     ]
    },
    {
     "name": "stdout",
     "output_type": "stream",
     "text": [
      "The day is Thursday.\n"
     ]
    }
   ],
   "source": [
    "day_number = int(input(\"Enter a number (1 for Monday, 2 for Tuesday, etc.):\"))\n",
    "\n",
    "if day_number == 1:\n",
    "    print(\"The day is Monday.\")\n",
    "elif day_number == 2:\n",
    "    print(\"The day is Tuesday.\")\n",
    "elif day_number == 3:\n",
    "    print(\"The day is Wednesday.\")\n",
    "elif day_number == 4:\n",
    "    print(\"The day is Thursday.\")\n",
    "elif day_number == 5:\n",
    "    print(\"The day is Friday.\")\n",
    "elif day_number == 6:\n",
    "    print(\"The day is Saturday.\")\n",
    "elif day_number == 7:\n",
    "    print(\"The day is Sunday.\")\n",
    "else:\n",
    "    print(\"Invalid input. Please enter a number between 1 and 7.\")"
   ]
  },
  {
   "cell_type": "code",
   "execution_count": null,
   "id": "d2fdd81c-0703-450b-90f1-f1e421a7d71f",
   "metadata": {},
   "outputs": [],
   "source": [
    "# Q13"
   ]
  },
  {
   "cell_type": "code",
   "execution_count": 12,
   "id": "e57c79a6-1112-48ea-b679-edffd57a3e65",
   "metadata": {},
   "outputs": [
    {
     "name": "stdin",
     "output_type": "stream",
     "text": [
      "Enter a number:  18\n"
     ]
    },
    {
     "name": "stdout",
     "output_type": "stream",
     "text": [
      "The factorial of 18 is 6402373705728000.\n"
     ]
    }
   ],
   "source": [
    "def factorial(n):\n",
    "    if n == 0:\n",
    "        return 1\n",
    "    else:\n",
    "        return n * factorial(n - 1)\n",
    "\n",
    "num = int(input(\"Enter a number: \"))\n",
    "result = factorial(num)\n",
    "print(f\"The factorial of {num} is {result}.\")"
   ]
  },
  {
   "cell_type": "code",
   "execution_count": null,
   "id": "72e2f1ff-7a01-4eb6-a89f-a95dc64794f3",
   "metadata": {},
   "outputs": [],
   "source": [
    "# Q14"
   ]
  },
  {
   "cell_type": "code",
   "execution_count": 14,
   "id": "e593b3a4-92cd-4265-b9c2-ee7948fc2cdc",
   "metadata": {},
   "outputs": [
    {
     "name": "stdin",
     "output_type": "stream",
     "text": [
      "Enter the first number:  3.142\n",
      "Enter the second number:  3.12\n",
      "Enter the third number:  3\n"
     ]
    },
    {
     "name": "stdout",
     "output_type": "stream",
     "text": [
      "The largest number is 3.142.\n"
     ]
    }
   ],
   "source": [
    "num1 = float(input(\"Enter the first number: \"))\n",
    "num2 = float(input(\"Enter the second number: \"))\n",
    "num3 = float(input(\"Enter the third number: \"))\n",
    "\n",
    "if num1 >= num2 and num1 >= num3:\n",
    "    largest = num1\n",
    "elif num2 >= num1 and num2 >= num3:\n",
    "    largest = num2\n",
    "else:\n",
    "    largest = num3\n",
    "\n",
    "print(f\"The largest number is {largest}.\")"
   ]
  },
  {
   "cell_type": "code",
   "execution_count": 3,
   "id": "0a046435-1566-4d99-9a8b-f90887a65af6",
   "metadata": {},
   "outputs": [],
   "source": [
    "# Q16"
   ]
  },
  {
   "cell_type": "code",
   "execution_count": 4,
   "id": "01dcbc1b-d1dc-42bd-a7f6-b253f259457d",
   "metadata": {},
   "outputs": [
    {
     "name": "stdin",
     "output_type": "stream",
     "text": [
      "Enter a string:  raper\n"
     ]
    },
    {
     "name": "stdout",
     "output_type": "stream",
     "text": [
      "The string is not a palindrome.\n"
     ]
    }
   ],
   "source": [
    "def is_palindrome(s):\n",
    "    s = s.lower().replace(\" \", \"\")\n",
    "    return s == s[::-1]\n",
    "\n",
    "string = input(\"Enter a string: \")\n",
    "\n",
    "if is_palindrome(string):\n",
    "    print(\"The string is a palindrome.\")\n",
    "else:\n",
    "    print(\"The string is not a palindrome.\")"
   ]
  },
  {
   "cell_type": "code",
   "execution_count": 5,
   "id": "9b3e443e-a1e1-41ac-acb6-8b8111ed5384",
   "metadata": {},
   "outputs": [],
   "source": [
    "# Q17"
   ]
  },
  {
   "cell_type": "code",
   "execution_count": 7,
   "id": "d28e5523-7ec9-42fa-864d-3840cb199dfd",
   "metadata": {},
   "outputs": [
    {
     "name": "stdout",
     "output_type": "stream",
     "text": [
      "The average (excluding the smallest and largest values) is 34.333333333333336.\n"
     ]
    }
   ],
   "source": [
    "numbers = [25, 20, 38, 40, 50]\n",
    "numbers.sort()\n",
    "total = sum(numbers[1:-1])\n",
    "average = total / (len(numbers) - 2)\n",
    "print(f\"The average (excluding the smallest and largest values) is {average}.\")"
   ]
  },
  {
   "cell_type": "code",
   "execution_count": 8,
   "id": "bdda9cdd-a14c-4f55-94b9-54167836c6bc",
   "metadata": {},
   "outputs": [],
   "source": [
    "# Q18"
   ]
  },
  {
   "cell_type": "code",
   "execution_count": 9,
   "id": "79daa444-1a50-4b08-b3f2-00f000f3d8af",
   "metadata": {},
   "outputs": [
    {
     "name": "stdin",
     "output_type": "stream",
     "text": [
      "Enter the temperature in Celsius:  42\n"
     ]
    },
    {
     "name": "stdout",
     "output_type": "stream",
     "text": [
      "42.0°C is equal to 107.6°F.\n"
     ]
    }
   ],
   "source": [
    "celsius = float(input(\"Enter the temperature in Celsius: \"))\n",
    "fahrenheit = (celsius * 9/5) + 32\n",
    "print(f\"{celsius}°C is equal to {fahrenheit}°F.\")"
   ]
  },
  {
   "cell_type": "code",
   "execution_count": 10,
   "id": "2a27f446-6e44-4957-af20-db6d674e404e",
   "metadata": {},
   "outputs": [],
   "source": [
    "# Q19"
   ]
  },
  {
   "cell_type": "code",
   "execution_count": 11,
   "id": "1a0fd739-dbae-4a10-ad6b-53f4303adb6c",
   "metadata": {},
   "outputs": [
    {
     "name": "stdin",
     "output_type": "stream",
     "text": [
      "Enter the first number:  22\n",
      "Enter the second number:  10\n",
      "Enter the operation (+, -, *, /):  *\n"
     ]
    },
    {
     "name": "stdout",
     "output_type": "stream",
     "text": [
      "The result is: 220.0\n"
     ]
    }
   ],
   "source": [
    "num1 = float(input(\"Enter the first number: \"))\n",
    "num2 = float(input(\"Enter the second number: \"))\n",
    "operation = input(\"Enter the operation (+, -, *, /): \")\n",
    "\n",
    "if operation == \"+\":\n",
    "    result = num1 + num2\n",
    "elif operation == \"-\":\n",
    "    result = num1 - num2\n",
    "elif operation == \"*\":\n",
    "    result = num1 * num2\n",
    "elif operation == \"/\":\n",
    "    if num2 != 0:\n",
    "        result = num1 / num2\n",
    "    else:\n",
    "        result = \"Cannot divide by zero.\"\n",
    "else:\n",
    "    result = \"Invalid operation.\"\n",
    "\n",
    "print(f\"The result is: {result}\")"
   ]
  },
  {
   "cell_type": "code",
   "execution_count": null,
   "id": "cb2a438e-5a2f-4f89-b59b-3888e8ce7590",
   "metadata": {},
   "outputs": [],
   "source": []
  },
  {
   "cell_type": "code",
   "execution_count": null,
   "id": "a1a221f6-f14e-4faa-a3d3-e0ef5d7db1a4",
   "metadata": {},
   "outputs": [],
   "source": [
    "                                                        Advanced Level"
   ]
  },
  {
   "cell_type": "code",
   "execution_count": 13,
   "id": "c58572df-6174-48eb-948f-6a1a822bd8a1",
   "metadata": {},
   "outputs": [],
   "source": [
    "# Q21"
   ]
  },
  {
   "cell_type": "code",
   "execution_count": 14,
   "id": "3160d935-0840-4911-9384-5a5b42773322",
   "metadata": {},
   "outputs": [
    {
     "name": "stdin",
     "output_type": "stream",
     "text": [
      "Enter your income:  3500000\n"
     ]
    },
    {
     "name": "stdout",
     "output_type": "stream",
     "text": [
      "Your income tax is: $695000.00\n"
     ]
    }
   ],
   "source": [
    "income = float(input(\"Enter your income: \"))\n",
    "\n",
    "if income <= 10000:\n",
    "    tax = 0\n",
    "elif income <= 40000:\n",
    "    tax = (income - 10000) * 0.1\n",
    "else:\n",
    "    tax = 3000 + (income - 40000) * 0.2\n",
    "\n",
    "print(f\"Your income tax is: ${tax:.2f}\")"
   ]
  },
  {
   "cell_type": "code",
   "execution_count": 15,
   "id": "14c6c39c-8d81-4b5d-abdb-67a5d68bd209",
   "metadata": {},
   "outputs": [],
   "source": [
    "# Q22"
   ]
  },
  {
   "cell_type": "code",
   "execution_count": 16,
   "id": "b7723af5-949a-401c-8055-795a6e33f216",
   "metadata": {},
   "outputs": [
    {
     "name": "stdin",
     "output_type": "stream",
     "text": [
      "Enter your choice (rock, paper, or scissors):  rock\n"
     ]
    },
    {
     "name": "stdout",
     "output_type": "stream",
     "text": [
      "Computer chose scissors. You win!\n"
     ]
    }
   ],
   "source": [
    "import random\n",
    "\n",
    "choices = [\"rock\", \"paper\", \"scissors\"]\n",
    "computer_choice = random.choice(choices)\n",
    "\n",
    "user_choice = input(\"Enter your choice (rock, paper, or scissors): \")\n",
    "\n",
    "if user_choice in choices:\n",
    "    if user_choice == computer_choice:\n",
    "        result = \"It's a tie!\"\n",
    "    elif (user_choice == \"rock\" and computer_choice == \"scissors\") or (user_choice == \"paper\" and computer_choice == \"rock\") or (user_choice == \"scissors\" and computer_choice == \"paper\"):\n",
    "        result = \"You win!\"\n",
    "    else:\n",
    "        result = \"Computer wins!\"\n",
    "    print(f\"Computer chose {computer_choice}. {result}\")\n",
    "else:\n",
    "    print(\"Invalid choice. Please choose rock, paper, or scissors.\")"
   ]
  },
  {
   "cell_type": "code",
   "execution_count": 17,
   "id": "426828e7-630c-42a8-b977-02b0c2eca7ad",
   "metadata": {},
   "outputs": [],
   "source": [
    "# Q23"
   ]
  },
  {
   "cell_type": "code",
   "execution_count": 18,
   "id": "0f4c9b0c-af55-4021-9013-eba7cf7ec0b2",
   "metadata": {},
   "outputs": [
    {
     "name": "stdin",
     "output_type": "stream",
     "text": [
      "Enter the desired password length:  8\n",
      "Choose password complexity (weak/strong):  strong\n"
     ]
    },
    {
     "name": "stdout",
     "output_type": "stream",
     "text": [
      "Generated password: De@)t!J=\n"
     ]
    }
   ],
   "source": [
    "import random\n",
    "import string\n",
    "\n",
    "length = int(input(\"Enter the desired password length: \"))\n",
    "complexity = input(\"Choose password complexity (weak/strong): \")\n",
    "\n",
    "if complexity == \"weak\":\n",
    "    characters = string.ascii_letters + string.digits\n",
    "elif complexity == \"strong\":\n",
    "    characters = string.ascii_letters + string.digits + string.punctuation\n",
    "else:\n",
    "    print(\"Invalid complexity choice. Please choose weak or strong.\")\n",
    "    exit()\n",
    "\n",
    "password = ''.join(random.choice(characters) for _ in range(length))\n",
    "print(f\"Generated password: {password}\")"
   ]
  },
  {
   "cell_type": "code",
   "execution_count": 19,
   "id": "811c6de4-7096-407f-84e4-124607703101",
   "metadata": {},
   "outputs": [],
   "source": [
    "# Q24"
   ]
  },
  {
   "cell_type": "code",
   "execution_count": 21,
   "id": "ec8892a3-4e72-4241-ba49-781e504b19c9",
   "metadata": {},
   "outputs": [
    {
     "name": "stdout",
     "output_type": "stream",
     "text": [
      "You are in a forest. You have two paths to choose from.\n"
     ]
    },
    {
     "name": "stdin",
     "output_type": "stream",
     "text": [
      "Do you want to go left or right?  right\n"
     ]
    },
    {
     "name": "stdout",
     "output_type": "stream",
     "text": [
      "You encounter a bear. Run away!\n"
     ]
    }
   ],
   "source": [
    "print(\"You are in a forest. You have two paths to choose from.\")\n",
    "choice = input(\"Do you want to go left or right? \").lower()\n",
    "\n",
    "if choice == \"left\":\n",
    "    print(\"You find a treasure chest!\")\n",
    "else:\n",
    "    print(\"You encounter a bear. Run away!\")"
   ]
  },
  {
   "cell_type": "code",
   "execution_count": 22,
   "id": "af5d270b-18c4-4bbc-bab7-9562d1d102db",
   "metadata": {},
   "outputs": [],
   "source": [
    "# Q25"
   ]
  },
  {
   "cell_type": "code",
   "execution_count": 23,
   "id": "39cde07b-ad65-46cd-a970-765a9190c7e4",
   "metadata": {},
   "outputs": [
    {
     "name": "stdin",
     "output_type": "stream",
     "text": [
      "Enter coefficient 'a':  4\n",
      "Enter coefficient 'b':  4\n"
     ]
    },
    {
     "name": "stdout",
     "output_type": "stream",
     "text": [
      "The solution for x is: -1.0\n"
     ]
    }
   ],
   "source": [
    "a = float(input(\"Enter coefficient 'a': \"))\n",
    "b = float(input(\"Enter coefficient 'b': \"))\n",
    "\n",
    "if a == 0:\n",
    "    if b == 0:\n",
    "        print(\"Infinite solutions (any value of x)\")\n",
    "    else:\n",
    "        print(\"No solution (inconsistent equation)\")\n",
    "else:\n",
    "    x = -b / a\n",
    "    print(f\"The solution for x is: {x}\")"
   ]
  },
  {
   "cell_type": "code",
   "execution_count": null,
   "id": "f9138bf6-ad81-4b88-beb0-a9805dfe71fe",
   "metadata": {},
   "outputs": [],
   "source": [
    "# Q26"
   ]
  },
  {
   "cell_type": "code",
   "execution_count": 24,
   "id": "762ee793-2f88-447e-957e-ba24da770550",
   "metadata": {},
   "outputs": [],
   "source": [
    "# Q27"
   ]
  },
  {
   "cell_type": "code",
   "execution_count": 25,
   "id": "7ac65572-9cf2-41c6-9095-51a1a7e76d30",
   "metadata": {},
   "outputs": [
    {
     "name": "stdin",
     "output_type": "stream",
     "text": [
      "Enter a year:  2000\n"
     ]
    },
    {
     "name": "stdout",
     "output_type": "stream",
     "text": [
      "2000 is not a prime number.\n"
     ]
    }
   ],
   "source": [
    "year = int(input(\"Enter a year: \"))\n",
    "\n",
    "if year < 2:\n",
    "    is_prime = False\n",
    "else:\n",
    "    is_prime = True\n",
    "    for i in range(2, int(year**0.5) + 1):\n",
    "        if year % i == 0:\n",
    "            is_prime = False\n",
    "            break\n",
    "\n",
    "if is_prime:\n",
    "    print(f\"{year} is a prime number.\")\n",
    "else:\n",
    "    print(f\"{year} is not a prime number.\")"
   ]
  },
  {
   "cell_type": "code",
   "execution_count": 26,
   "id": "da41eaf5-f432-48e1-9be0-9a10908b75a7",
   "metadata": {},
   "outputs": [],
   "source": [
    "# Q28"
   ]
  },
  {
   "cell_type": "code",
   "execution_count": 27,
   "id": "eac13ab4-3727-4a82-aa17-b983a4be8ab8",
   "metadata": {},
   "outputs": [
    {
     "name": "stdin",
     "output_type": "stream",
     "text": [
      "Enter the first number:  2.4\n",
      "Enter the second number:  3.4\n",
      "Enter the third number:  38.7\n"
     ]
    },
    {
     "name": "stdout",
     "output_type": "stream",
     "text": [
      "The sorted order is: 2.4, 3.4, 38.7\n"
     ]
    }
   ],
   "source": [
    "num1 = float(input(\"Enter the first number: \"))\n",
    "num2 = float(input(\"Enter the second number: \"))\n",
    "num3 = float(input(\"Enter the third number: \"))\n",
    "\n",
    "if num1 <= num2 <= num3:\n",
    "    print(f\"The sorted order is: {num1}, {num2}, {num3}\")\n",
    "elif num1 <= num3 <= num2:\n",
    "    print(f\"The sorted order is: {num1}, {num3}, {num2}\")\n",
    "elif num2 <= num1 <= num3:\n",
    "    print(f\"The sorted order is: {num2}, {num1}, {num3}\")\n",
    "elif num2 <= num3 <= num1:\n",
    "    print(f\"The sorted order is: {num2}, {num3}, {num1}\")\n",
    "elif num3 <= num1 <= num2:\n",
    "    print(f\"The sorted order is: {num3}, {num1}, {num2}\")\n",
    "else:\n",
    "    print(f\"The sorted order is: {num3}, {num2}, {num1}\")"
   ]
  },
  {
   "cell_type": "code",
   "execution_count": 28,
   "id": "77f00b5f-c176-4c17-b4a2-cf92e1595e99",
   "metadata": {},
   "outputs": [],
   "source": [
    "# Q29"
   ]
  },
  {
   "cell_type": "code",
   "execution_count": 29,
   "id": "1c82e656-833f-4f99-a50b-04b4a6c30e3f",
   "metadata": {},
   "outputs": [],
   "source": [
    "# Q30"
   ]
  },
  {
   "cell_type": "code",
   "execution_count": 31,
   "id": "788d9b35-0c64-4999-b20e-d950757300ed",
   "metadata": {},
   "outputs": [
    {
     "name": "stdin",
     "output_type": "stream",
     "text": [
      "Enter your weight (kg):  39.40\n",
      "Enter your height (m):  1.61\n"
     ]
    },
    {
     "name": "stdout",
     "output_type": "stream",
     "text": [
      "Your BMI is 15.20, which falls into the underweight category. You may need to gain some weight.\n"
     ]
    }
   ],
   "source": [
    "weight = float(input(\"Enter your weight (kg): \"))\n",
    "height = float(input(\"Enter your height (m): \"))\n",
    "\n",
    "bmi = weight / (height**2)\n",
    "\n",
    "if bmi < 18.5:\n",
    "    category = \"underweight\"\n",
    "    recommendation = \"You may need to gain some weight.\"\n",
    "elif 18.5 <= bmi < 24.9:\n",
    "    category = \"normal weight\"\n",
    "    recommendation = \"You are in a healthy weight range.\"\n",
    "elif 24.9 <= bmi < 29.9:\n",
    "    category = \"overweight\"\n",
    "    recommendation = \"You may need to lose some weight.\"\n",
    "else:\n",
    "    category = \"obese\"\n",
    "    recommendation = \"You should consult a healthcare professional.\"\n",
    "\n",
    "print(f\"Your BMI is {bmi:.2f}, which falls into the {category} category. {recommendation}\")"
   ]
  },
  {
   "cell_type": "code",
   "execution_count": null,
   "id": "e6fba0e5-4465-4aed-951f-a1913987a40c",
   "metadata": {},
   "outputs": [],
   "source": [
    "                                                        Challenge Level"
   ]
  },
  {
   "cell_type": "code",
   "execution_count": 32,
   "id": "3102c6da-e2db-4fb9-a730-0439f6f27035",
   "metadata": {},
   "outputs": [],
   "source": [
    "# Q31"
   ]
  },
  {
   "cell_type": "code",
   "execution_count": 34,
   "id": "ad02e580-8fd3-4ba8-a5b0-2b9a33c9d6fc",
   "metadata": {},
   "outputs": [
    {
     "name": "stdin",
     "output_type": "stream",
     "text": [
      "Enter a password:  de@t!=1\n"
     ]
    },
    {
     "name": "stdout",
     "output_type": "stream",
     "text": [
      "Password is not valid.\n"
     ]
    }
   ],
   "source": [
    "import re\n",
    "\n",
    "def validate_password(password):\n",
    "    # Define complexity rules\n",
    "    length_rule = len(password) >= 8\n",
    "    digit_rule = bool(re.search(r'\\d', password))\n",
    "    uppercase_rule = bool(re.search(r'[A-Z]', password))\n",
    "    lowercase_rule = bool(re.search(r'[a-z]', password))\n",
    "    special_char_rule = bool(re.search(r'[#$%^&*]', password))  \n",
    "\n",
    "    # Check all rules\n",
    "    if length_rule and digit_rule and uppercase_rule and lowercase_rule and special_char_rule:\n",
    "        return \"Password is valid.\"\n",
    "    else:\n",
    "        return \"Password is not valid.\"\n",
    "\n",
    "password = input(\"Enter a password: \")\n",
    "result = validate_password(password)\n",
    "print(result)"
   ]
  },
  {
   "cell_type": "code",
   "execution_count": null,
   "id": "d11e70f3-c3b7-470e-96bd-57c7903aee36",
   "metadata": {},
   "outputs": [],
   "source": [
    "# Q32"
   ]
  },
  {
   "cell_type": "code",
   "execution_count": 37,
   "id": "7c023f15-367a-4896-b644-1f879f288eea",
   "metadata": {},
   "outputs": [
    {
     "name": "stdout",
     "output_type": "stream",
     "text": [
      "Matrix Addition:\n",
      "[5, 10, 12]\n",
      "[17, 5, 18]\n",
      "Matrix Subtraction:\n",
      "[-3, -6, -6]\n",
      "[-3, 5, -6]\n"
     ]
    }
   ],
   "source": [
    "def matrix_addition(matrix1, matrix2):\n",
    "    result = []\n",
    "    for i in range(len(matrix1)):\n",
    "        row = [matrix1[i][j] + matrix2[i][j] for j in range(len(matrix1[i]))]\n",
    "        result.append(row)\n",
    "    return result\n",
    "\n",
    "def matrix_subtraction(matrix1, matrix2):\n",
    "    result = []\n",
    "    for i in range(len(matrix1)):\n",
    "        row = [matrix1[i][j] - matrix2[i][j] for j in range(len(matrix1[i]))]\n",
    "        result.append(row)\n",
    "    return result\n",
    "\n",
    "# Example usage:\n",
    "matrix1 = [[1, 2, 3], [7, 5, 6]]\n",
    "matrix2 = [[4, 8, 9], [10, 0, 12]]\n",
    "\n",
    "add_result = matrix_addition(matrix1, matrix2)\n",
    "sub_result = matrix_subtraction(matrix1, matrix2)\n",
    "\n",
    "print(\"Matrix Addition:\")\n",
    "for row in add_result:\n",
    "    print(row)\n",
    "\n",
    "print(\"Matrix Subtraction:\")\n",
    "for row in sub_result:\n",
    "    print(row)"
   ]
  },
  {
   "cell_type": "code",
   "execution_count": 38,
   "id": "eedc42b4-0495-469e-ba6a-c6e9479f18f2",
   "metadata": {},
   "outputs": [],
   "source": [
    "# Q33"
   ]
  },
  {
   "cell_type": "code",
   "execution_count": 39,
   "id": "b5c8001e-4415-46fd-81c8-b0c15301aeed",
   "metadata": {},
   "outputs": [
    {
     "name": "stdin",
     "output_type": "stream",
     "text": [
      "Enter the first number:  17\n",
      "Enter the second number:  51\n"
     ]
    },
    {
     "name": "stdout",
     "output_type": "stream",
     "text": [
      "GCD of 17 and 51 is 17\n"
     ]
    }
   ],
   "source": [
    "def gcd_euclidean(a, b):\n",
    "    while b:\n",
    "        a, b = b, a % b\n",
    "    return a\n",
    "\n",
    "num1 = int(input(\"Enter the first number: \"))\n",
    "num2 = int(input(\"Enter the second number: \"))\n",
    "\n",
    "gcd = gcd_euclidean(num1, num2)\n",
    "print(f\"GCD of {num1} and {num2} is {gcd}\")"
   ]
  },
  {
   "cell_type": "code",
   "execution_count": 40,
   "id": "a8f1d10e-96c9-4c8e-a0ea-fd00af639eb9",
   "metadata": {},
   "outputs": [],
   "source": [
    "# Q34"
   ]
  },
  {
   "cell_type": "code",
   "execution_count": 43,
   "id": "ecb9a22e-d924-4c3f-bb6a-e6a19925c276",
   "metadata": {},
   "outputs": [
    {
     "name": "stdout",
     "output_type": "stream",
     "text": [
      "Matrix Multiplication:\n",
      "[1625, 390]\n",
      "[92, 60]\n"
     ]
    }
   ],
   "source": [
    "def matrix_multiplication(matrix1, matrix2):\n",
    "    if len(matrix1[0]) != len(matrix2):\n",
    "        return \"Matrix multiplication is not possible.\"\n",
    "    \n",
    "    result = []\n",
    "    for i in range(len(matrix1)):\n",
    "        row = []\n",
    "        for j in range(len(matrix2[0])):\n",
    "            total = 0\n",
    "            for k in range(len(matrix2)):\n",
    "                total += matrix1[i][k] * matrix2[k][j]\n",
    "            row.append(total)\n",
    "        result.append(row)\n",
    "    return result\n",
    "\n",
    "# Example usage:\n",
    "matrix1 = [[65, 0], [2, 6]]\n",
    "matrix2 = [[25, 6], [7, 8]]\n",
    "\n",
    "product = matrix_multiplication(matrix1, matrix2)\n",
    "\n",
    "print(\"Matrix Multiplication:\")\n",
    "for row in product:\n",
    "    print(row)"
   ]
  },
  {
   "cell_type": "code",
   "execution_count": 50,
   "id": "ea5959e5-7aff-4755-9612-a10c4ccb635c",
   "metadata": {},
   "outputs": [],
   "source": [
    "# Q36"
   ]
  },
  {
   "cell_type": "code",
   "execution_count": 51,
   "id": "88e0c16b-f44e-4889-9758-e9926f8e0490",
   "metadata": {},
   "outputs": [
    {
     "name": "stdin",
     "output_type": "stream",
     "text": [
      "Enter the number of Fibonacci numbers to generate:  5\n"
     ]
    },
    {
     "name": "stdout",
     "output_type": "stream",
     "text": [
      "Fibonacci Sequence up to the 5-th term: [0, 1, 1, 2, 3]\n"
     ]
    }
   ],
   "source": [
    "def generate_fibonacci(n):\n",
    "    fibonacci_sequence = [0, 1]\n",
    "    while len(fibonacci_sequence) < n:\n",
    "        next_fib = fibonacci_sequence[-1] + fibonacci_sequence[-2]\n",
    "        fibonacci_sequence.append(next_fib)\n",
    "    return fibonacci_sequence\n",
    "\n",
    "n = int(input(\"Enter the number of Fibonacci numbers to generate: \"))\n",
    "fibonacci_numbers = generate_fibonacci(n)\n",
    "print(f\"Fibonacci Sequence up to the {n}-th term: {fibonacci_numbers}\")"
   ]
  },
  {
   "cell_type": "code",
   "execution_count": 52,
   "id": "92c036a6-e2d3-482f-a749-ab04c074d3e4",
   "metadata": {},
   "outputs": [],
   "source": [
    "# Q37"
   ]
  },
  {
   "cell_type": "code",
   "execution_count": 54,
   "id": "e077678c-33e9-473b-8f19-cab6f73ae8c9",
   "metadata": {},
   "outputs": [
    {
     "name": "stdin",
     "output_type": "stream",
     "text": [
      "Enter the term (n) for the Fibonacci sequence:  12\n"
     ]
    },
    {
     "name": "stdout",
     "output_type": "stream",
     "text": [
      "The 12-th term of the Fibonacci sequence is: 144\n"
     ]
    }
   ],
   "source": [
    "def fibonacci_memoization(n, memo={}):\n",
    "    if n in memo:\n",
    "        return memo[n]\n",
    "    if n <= 1:\n",
    "        return n\n",
    "    memo[n] = fibonacci_memoization(n - 1, memo) + fibonacci_memoization(n - 2, memo)\n",
    "    return memo[n]\n",
    "\n",
    "n = int(input(\"Enter the term (n) for the Fibonacci sequence: \"))\n",
    "result = fibonacci_memoization(n)\n",
    "print(f\"The {n}-th term of the Fibonacci sequence is: {result}\")"
   ]
  },
  {
   "cell_type": "code",
   "execution_count": 55,
   "id": "0dd327fd-4825-4ee7-8171-fff01402e8a8",
   "metadata": {},
   "outputs": [],
   "source": [
    "# Q38"
   ]
  },
  {
   "cell_type": "code",
   "execution_count": 56,
   "id": "5d8820cd-44bb-433e-9fc4-06a8689df84e",
   "metadata": {},
   "outputs": [
    {
     "name": "stdin",
     "output_type": "stream",
     "text": [
      "Enter the year:  2025\n",
      "Enter the month (1-12):  6\n"
     ]
    },
    {
     "name": "stdout",
     "output_type": "stream",
     "text": [
      "Calendar for June 2025:\n",
      "\n",
      "     June 2025\n",
      "Mo Tu We Th Fr Sa Su\n",
      "                   1\n",
      " 2  3  4  5  6  7  8\n",
      " 9 10 11 12 13 14 15\n",
      "16 17 18 19 20 21 22\n",
      "23 24 25 26 27 28 29\n",
      "30\n",
      "\n"
     ]
    }
   ],
   "source": [
    "import calendar\n",
    "\n",
    "year = int(input(\"Enter the year: \"))\n",
    "month = int(input(\"Enter the month (1-12): \"))\n",
    "\n",
    "cal = calendar.month(year, month)\n",
    "print(f\"Calendar for {calendar.month_name[month]} {year}:\\n\")\n",
    "print(cal)"
   ]
  },
  {
   "cell_type": "code",
   "execution_count": null,
   "id": "9b6a5a75-8087-4793-986a-f9439f443f97",
   "metadata": {},
   "outputs": [],
   "source": [
    "# Q40"
   ]
  },
  {
   "cell_type": "code",
   "execution_count": 58,
   "id": "a0b98ee9-181f-4af5-a7f6-320bbc151721",
   "metadata": {},
   "outputs": [
    {
     "name": "stdin",
     "output_type": "stream",
     "text": [
      "Enter a number to find its prime factors:  42\n"
     ]
    },
    {
     "name": "stdout",
     "output_type": "stream",
     "text": [
      "Prime factors of 42: [2, 3, 7]\n"
     ]
    }
   ],
   "source": [
    "def prime_factors(n):\n",
    "    factors = []\n",
    "    divisor = 2\n",
    "    while divisor <= n:\n",
    "        if n % divisor == 0:\n",
    "            factors.append(divisor)\n",
    "            n //= divisor\n",
    "        else:\n",
    "            divisor += 1\n",
    "    return factors\n",
    "\n",
    "num = int(input(\"Enter a number to find its prime factors: \"))\n",
    "factors = prime_factors(num)\n",
    "print(f\"Prime factors of {num}: {factors}\")"
   ]
  },
  {
   "cell_type": "code",
   "execution_count": null,
   "id": "b3ee5b9d-e31e-4bae-ba09-119ce338f140",
   "metadata": {},
   "outputs": [],
   "source": []
  }
 ],
 "metadata": {
  "kernelspec": {
   "display_name": "Python 3 (ipykernel)",
   "language": "python",
   "name": "python3"
  },
  "language_info": {
   "codemirror_mode": {
    "name": "ipython",
    "version": 3
   },
   "file_extension": ".py",
   "mimetype": "text/x-python",
   "name": "python",
   "nbconvert_exporter": "python",
   "pygments_lexer": "ipython3",
   "version": "3.10.8"
  }
 },
 "nbformat": 4,
 "nbformat_minor": 5
}
